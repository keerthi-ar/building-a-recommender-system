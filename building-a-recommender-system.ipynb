{
  "cells": [
    {
      "cell_type": "markdown",
      "metadata": {
        "id": "1h3S-eoYp1u3"
      },
      "source": [
        "**Install required libraries**"
      ]
    },
    {
      "cell_type": "code",
      "execution_count": 3,
      "metadata": {
        "colab": {
          "base_uri": "https://localhost:8080/"
        },
        "id": "aIkmYm56iEt2",
        "outputId": "dd2b2f39-7503-4b08-c621-49bb95488291"
      },
      "outputs": [
        {
          "name": "stdout",
          "output_type": "stream",
          "text": [
            "Collecting surprise\n",
            "  Downloading surprise-0.1-py2.py3-none-any.whl.metadata (327 bytes)\n",
            "Collecting scikit-surprise (from surprise)\n",
            "  Downloading scikit_surprise-1.1.4.tar.gz (154 kB)\n",
            "\u001b[?25l     \u001b[90m━━━━━━━━━━━━━━━━━━━━━━━━━━━━━━━━━━━━━━━━\u001b[0m \u001b[32m0.0/154.4 kB\u001b[0m \u001b[31m?\u001b[0m eta \u001b[36m-:--:--\u001b[0m\r\u001b[2K     \u001b[90m━━━━━━━━━━━━━━━━━━━━━━━━━━━━━━━━━━━━━━━━\u001b[0m \u001b[32m154.4/154.4 kB\u001b[0m \u001b[31m4.8 MB/s\u001b[0m eta \u001b[36m0:00:00\u001b[0m\n",
            "\u001b[?25h  Installing build dependencies ... \u001b[?25l\u001b[?25hdone\n",
            "  Getting requirements to build wheel ... \u001b[?25l\u001b[?25hdone\n",
            "  Preparing metadata (pyproject.toml) ... \u001b[?25l\u001b[?25hdone\n",
            "Requirement already satisfied: joblib>=1.2.0 in /usr/local/lib/python3.10/dist-packages (from scikit-surprise->surprise) (1.4.2)\n",
            "Requirement already satisfied: numpy>=1.19.5 in /usr/local/lib/python3.10/dist-packages (from scikit-surprise->surprise) (1.26.4)\n",
            "Requirement already satisfied: scipy>=1.6.0 in /usr/local/lib/python3.10/dist-packages (from scikit-surprise->surprise) (1.13.1)\n",
            "Downloading surprise-0.1-py2.py3-none-any.whl (1.8 kB)\n",
            "Building wheels for collected packages: scikit-surprise\n",
            "  Building wheel for scikit-surprise (pyproject.toml) ... \u001b[?25l\u001b[?25hdone\n",
            "  Created wheel for scikit-surprise: filename=scikit_surprise-1.1.4-cp310-cp310-linux_x86_64.whl size=2357286 sha256=878465537eefc42f7688bc3a239711bcf2896d4bd63a339e4e422dc05a1f743f\n",
            "  Stored in directory: /root/.cache/pip/wheels/4b/3f/df/6acbf0a40397d9bf3ff97f582cc22fb9ce66adde75bc71fd54\n",
            "Successfully built scikit-surprise\n",
            "Installing collected packages: scikit-surprise, surprise\n",
            "Successfully installed scikit-surprise-1.1.4 surprise-0.1\n"
          ]
        }
      ],
      "source": [
        "!pip install surprise"
      ]
    },
    {
      "cell_type": "markdown",
      "metadata": {
        "id": "ik_qWfGTp9H5"
      },
      "source": [
        "**Import Required Libraries**"
      ]
    },
    {
      "cell_type": "code",
      "execution_count": 39,
      "metadata": {
        "id": "E3nK4k7NjsA9"
      },
      "outputs": [],
      "source": [
        "import pandas as pd\n",
        "import numpy as np\n",
        "from sklearn.model_selection import train_test_split\n",
        "from surprise import SVD\n",
        "from surprise import Dataset\n",
        "from surprise.model_selection import cross_validate\n",
        "from surprise.model_selection import train_test_split as surprise_train_test_split\n",
        "from surprise import Reader\n",
        "from google.colab import files\n",
        "import zipfile\n",
        "from sklearn.metrics import mean_squared_error, mean_absolute_error\n",
        "from pyspark.sql import SparkSession\n",
        "from pyspark.ml.recommendation import ALS\n",
        "from sklearn.metrics.pairwise import cosine_similarity"
      ]
    },
    {
      "cell_type": "markdown",
      "metadata": {
        "id": "w9BfpcV4qGFP"
      },
      "source": [
        "**Upload and Extract Dataset**"
      ]
    },
    {
      "cell_type": "code",
      "execution_count": 40,
      "metadata": {
        "colab": {
          "base_uri": "https://localhost:8080/",
          "height": 73
        },
        "id": "JNzAPj5CgcYK",
        "outputId": "98750b2a-bb00-4f4c-e4bf-599508657d6d"
      },
      "outputs": [
        {
          "data": {
            "text/html": [
              "\n",
              "     <input type=\"file\" id=\"files-43da6540-1e1d-45bf-b372-d170ece991f6\" name=\"files[]\" multiple disabled\n",
              "        style=\"border:none\" />\n",
              "     <output id=\"result-43da6540-1e1d-45bf-b372-d170ece991f6\">\n",
              "      Upload widget is only available when the cell has been executed in the\n",
              "      current browser session. Please rerun this cell to enable.\n",
              "      </output>\n",
              "      <script>// Copyright 2017 Google LLC\n",
              "//\n",
              "// Licensed under the Apache License, Version 2.0 (the \"License\");\n",
              "// you may not use this file except in compliance with the License.\n",
              "// You may obtain a copy of the License at\n",
              "//\n",
              "//      http://www.apache.org/licenses/LICENSE-2.0\n",
              "//\n",
              "// Unless required by applicable law or agreed to in writing, software\n",
              "// distributed under the License is distributed on an \"AS IS\" BASIS,\n",
              "// WITHOUT WARRANTIES OR CONDITIONS OF ANY KIND, either express or implied.\n",
              "// See the License for the specific language governing permissions and\n",
              "// limitations under the License.\n",
              "\n",
              "/**\n",
              " * @fileoverview Helpers for google.colab Python module.\n",
              " */\n",
              "(function(scope) {\n",
              "function span(text, styleAttributes = {}) {\n",
              "  const element = document.createElement('span');\n",
              "  element.textContent = text;\n",
              "  for (const key of Object.keys(styleAttributes)) {\n",
              "    element.style[key] = styleAttributes[key];\n",
              "  }\n",
              "  return element;\n",
              "}\n",
              "\n",
              "// Max number of bytes which will be uploaded at a time.\n",
              "const MAX_PAYLOAD_SIZE = 100 * 1024;\n",
              "\n",
              "function _uploadFiles(inputId, outputId) {\n",
              "  const steps = uploadFilesStep(inputId, outputId);\n",
              "  const outputElement = document.getElementById(outputId);\n",
              "  // Cache steps on the outputElement to make it available for the next call\n",
              "  // to uploadFilesContinue from Python.\n",
              "  outputElement.steps = steps;\n",
              "\n",
              "  return _uploadFilesContinue(outputId);\n",
              "}\n",
              "\n",
              "// This is roughly an async generator (not supported in the browser yet),\n",
              "// where there are multiple asynchronous steps and the Python side is going\n",
              "// to poll for completion of each step.\n",
              "// This uses a Promise to block the python side on completion of each step,\n",
              "// then passes the result of the previous step as the input to the next step.\n",
              "function _uploadFilesContinue(outputId) {\n",
              "  const outputElement = document.getElementById(outputId);\n",
              "  const steps = outputElement.steps;\n",
              "\n",
              "  const next = steps.next(outputElement.lastPromiseValue);\n",
              "  return Promise.resolve(next.value.promise).then((value) => {\n",
              "    // Cache the last promise value to make it available to the next\n",
              "    // step of the generator.\n",
              "    outputElement.lastPromiseValue = value;\n",
              "    return next.value.response;\n",
              "  });\n",
              "}\n",
              "\n",
              "/**\n",
              " * Generator function which is called between each async step of the upload\n",
              " * process.\n",
              " * @param {string} inputId Element ID of the input file picker element.\n",
              " * @param {string} outputId Element ID of the output display.\n",
              " * @return {!Iterable<!Object>} Iterable of next steps.\n",
              " */\n",
              "function* uploadFilesStep(inputId, outputId) {\n",
              "  const inputElement = document.getElementById(inputId);\n",
              "  inputElement.disabled = false;\n",
              "\n",
              "  const outputElement = document.getElementById(outputId);\n",
              "  outputElement.innerHTML = '';\n",
              "\n",
              "  const pickedPromise = new Promise((resolve) => {\n",
              "    inputElement.addEventListener('change', (e) => {\n",
              "      resolve(e.target.files);\n",
              "    });\n",
              "  });\n",
              "\n",
              "  const cancel = document.createElement('button');\n",
              "  inputElement.parentElement.appendChild(cancel);\n",
              "  cancel.textContent = 'Cancel upload';\n",
              "  const cancelPromise = new Promise((resolve) => {\n",
              "    cancel.onclick = () => {\n",
              "      resolve(null);\n",
              "    };\n",
              "  });\n",
              "\n",
              "  // Wait for the user to pick the files.\n",
              "  const files = yield {\n",
              "    promise: Promise.race([pickedPromise, cancelPromise]),\n",
              "    response: {\n",
              "      action: 'starting',\n",
              "    }\n",
              "  };\n",
              "\n",
              "  cancel.remove();\n",
              "\n",
              "  // Disable the input element since further picks are not allowed.\n",
              "  inputElement.disabled = true;\n",
              "\n",
              "  if (!files) {\n",
              "    return {\n",
              "      response: {\n",
              "        action: 'complete',\n",
              "      }\n",
              "    };\n",
              "  }\n",
              "\n",
              "  for (const file of files) {\n",
              "    const li = document.createElement('li');\n",
              "    li.append(span(file.name, {fontWeight: 'bold'}));\n",
              "    li.append(span(\n",
              "        `(${file.type || 'n/a'}) - ${file.size} bytes, ` +\n",
              "        `last modified: ${\n",
              "            file.lastModifiedDate ? file.lastModifiedDate.toLocaleDateString() :\n",
              "                                    'n/a'} - `));\n",
              "    const percent = span('0% done');\n",
              "    li.appendChild(percent);\n",
              "\n",
              "    outputElement.appendChild(li);\n",
              "\n",
              "    const fileDataPromise = new Promise((resolve) => {\n",
              "      const reader = new FileReader();\n",
              "      reader.onload = (e) => {\n",
              "        resolve(e.target.result);\n",
              "      };\n",
              "      reader.readAsArrayBuffer(file);\n",
              "    });\n",
              "    // Wait for the data to be ready.\n",
              "    let fileData = yield {\n",
              "      promise: fileDataPromise,\n",
              "      response: {\n",
              "        action: 'continue',\n",
              "      }\n",
              "    };\n",
              "\n",
              "    // Use a chunked sending to avoid message size limits. See b/62115660.\n",
              "    let position = 0;\n",
              "    do {\n",
              "      const length = Math.min(fileData.byteLength - position, MAX_PAYLOAD_SIZE);\n",
              "      const chunk = new Uint8Array(fileData, position, length);\n",
              "      position += length;\n",
              "\n",
              "      const base64 = btoa(String.fromCharCode.apply(null, chunk));\n",
              "      yield {\n",
              "        response: {\n",
              "          action: 'append',\n",
              "          file: file.name,\n",
              "          data: base64,\n",
              "        },\n",
              "      };\n",
              "\n",
              "      let percentDone = fileData.byteLength === 0 ?\n",
              "          100 :\n",
              "          Math.round((position / fileData.byteLength) * 100);\n",
              "      percent.textContent = `${percentDone}% done`;\n",
              "\n",
              "    } while (position < fileData.byteLength);\n",
              "  }\n",
              "\n",
              "  // All done.\n",
              "  yield {\n",
              "    response: {\n",
              "      action: 'complete',\n",
              "    }\n",
              "  };\n",
              "}\n",
              "\n",
              "scope.google = scope.google || {};\n",
              "scope.google.colab = scope.google.colab || {};\n",
              "scope.google.colab._files = {\n",
              "  _uploadFiles,\n",
              "  _uploadFilesContinue,\n",
              "};\n",
              "})(self);\n",
              "</script> "
            ],
            "text/plain": [
              "<IPython.core.display.HTML object>"
            ]
          },
          "metadata": {},
          "output_type": "display_data"
        },
        {
          "name": "stdout",
          "output_type": "stream",
          "text": [
            "Saving ml-latest-small.zip to ml-latest-small (2).zip\n"
          ]
        }
      ],
      "source": [
        "uploaded = files.upload()\n",
        "for file_name in uploaded.keys():\n",
        "    with zipfile.ZipFile(file_name, 'r') as zip_ref:\n",
        "        zip_ref.extractall(\"./movielens\")\n"
      ]
    },
    {
      "cell_type": "markdown",
      "metadata": {
        "id": "Z50ml1qwqIsE"
      },
      "source": [
        "**Load the Dataset**"
      ]
    },
    {
      "cell_type": "code",
      "execution_count": 41,
      "metadata": {
        "colab": {
          "base_uri": "https://localhost:8080/"
        },
        "id": "Y9CZ8dXMiBKX",
        "outputId": "e2b9b38d-1431-45d7-823a-4a09ae9923e2"
      },
      "outputs": [
        {
          "name": "stdout",
          "output_type": "stream",
          "text": [
            "Sample of Ratings Dataset:\n",
            "   userId  movieId  rating  timestamp\n",
            "0       1        1     4.0  964982703\n",
            "1       1        3     4.0  964981247\n",
            "2       1        6     4.0  964982224\n",
            "3       1       47     5.0  964983815\n",
            "4       1       50     5.0  964982931\n",
            "Sample of Movies Dataset:\n",
            "   movieId                               title  \\\n",
            "0        1                    Toy Story (1995)   \n",
            "1        2                      Jumanji (1995)   \n",
            "2        3             Grumpier Old Men (1995)   \n",
            "3        4            Waiting to Exhale (1995)   \n",
            "4        5  Father of the Bride Part II (1995)   \n",
            "\n",
            "                                        genres  \n",
            "0  Adventure|Animation|Children|Comedy|Fantasy  \n",
            "1                   Adventure|Children|Fantasy  \n",
            "2                               Comedy|Romance  \n",
            "3                         Comedy|Drama|Romance  \n",
            "4                                       Comedy  \n"
          ]
        }
      ],
      "source": [
        "ratings_file = './movielens/ml-latest-small/ratings.csv'\n",
        "movies_file = './movielens/ml-latest-small/movies.csv'\n",
        "\n",
        "ratings_df = pd.read_csv(ratings_file)\n",
        "movies_df = pd.read_csv(movies_file)\n",
        "\n",
        "print(\"Sample of Ratings Dataset:\")\n",
        "print(ratings_df.head())\n",
        "print(\"Sample of Movies Dataset:\")\n",
        "print(movies_df.head())"
      ]
    },
    {
      "cell_type": "markdown",
      "metadata": {
        "id": "JRmvAj1Ss9Yn"
      },
      "source": [
        "**Preprocessing of Data**"
      ]
    },
    {
      "cell_type": "code",
      "execution_count": null,
      "metadata": {
        "colab": {
          "base_uri": "https://localhost:8080/"
        },
        "id": "UOneAzyytBIT",
        "outputId": "28084941-5f5a-4496-de5a-57a0cffdcbac"
      },
      "outputs": [
        {
          "name": "stdout",
          "output_type": "stream",
          "text": [
            "userId       0\n",
            "movieId      0\n",
            "rating       0\n",
            "timestamp    5\n",
            "dtype: int64\n",
            "movieId    0\n",
            "title      0\n",
            "genres     0\n",
            "dtype: int64\n"
          ]
        }
      ],
      "source": [
        "# Handling missing values\n",
        "print(ratings_df.isnull().sum())\n",
        "ratings_df.dropna(subset=['rating'], inplace=True)\n",
        "\n",
        "print(movies_df.isnull().sum())\n",
        "movies_df['genres'].fillna('Unknown', inplace=True)\n",
        "\n",
        "# Handling duplicates\n",
        "ratings_df.drop_duplicates(subset=['userId', 'movieId'], inplace=True)\n",
        "\n",
        "# one-hot encoding categorical data\n",
        "genres_encoded = movies_df['genres'].str.get_dummies('|')\n",
        "movies_df = pd.concat([movies_df, genres_encoded], axis=1)\n",
        "\n",
        "# Handling User or Movie ID inconsistencies\n",
        "ratings_df['userId'] = ratings_df['userId'].astype(int)\n",
        "ratings_df['movieId'] = ratings_df['movieId'].astype(int)\n",
        "\n",
        "# Extracting more detailed time features\n",
        "ratings_with_context['weekday'] = ratings_with_context['timestamp'].dt.weekday\n",
        "ratings_with_context['month'] = ratings_with_context['timestamp'].dt.month"
      ]
    },
    {
      "cell_type": "markdown",
      "metadata": {
        "id": "3JzGWA7NqGBv"
      },
      "source": [
        "**Prepare the data for Surprise library**"
      ]
    },
    {
      "cell_type": "code",
      "execution_count": 61,
      "metadata": {
        "id": "KHDQCVEYiQF4"
      },
      "outputs": [],
      "source": [
        "reader = Reader(rating_scale=(0.5, 5.0))\n",
        "data = Dataset.load_from_df(ratings_df[['userId', 'movieId', 'rating']], reader)"
      ]
    },
    {
      "cell_type": "markdown",
      "metadata": {
        "id": "lPrLgiqxqdI3"
      },
      "source": [
        "**Train-Test Split for Surprise**"
      ]
    },
    {
      "cell_type": "code",
      "execution_count": 62,
      "metadata": {
        "id": "kpZU5OF9iTMf"
      },
      "outputs": [],
      "source": [
        "trainset, testset = surprise_train_test_split(data, test_size=0.2)"
      ]
    },
    {
      "cell_type": "markdown",
      "metadata": {
        "id": "th0U1EGKqgYB"
      },
      "source": [
        "**Train the SVD Model**"
      ]
    },
    {
      "cell_type": "code",
      "execution_count": 63,
      "metadata": {
        "colab": {
          "base_uri": "https://localhost:8080/"
        },
        "id": "BNEY8izFiV9P",
        "outputId": "9c3fed40-e985-4688-ffe0-4b9eee566988"
      },
      "outputs": [
        {
          "data": {
            "text/plain": [
              "<surprise.prediction_algorithms.matrix_factorization.SVD at 0x78597c283af0>"
            ]
          },
          "execution_count": 63,
          "metadata": {},
          "output_type": "execute_result"
        }
      ],
      "source": [
        "model = SVD()\n",
        "model.fit(trainset)"
      ]
    },
    {
      "cell_type": "markdown",
      "metadata": {
        "id": "b9_i-m18qpuw"
      },
      "source": [
        "**Evaluating the Model**"
      ]
    },
    {
      "cell_type": "code",
      "execution_count": 64,
      "metadata": {
        "colab": {
          "base_uri": "https://localhost:8080/"
        },
        "id": "g5K0XRtbiZtu",
        "outputId": "09ca0c48-2cb3-476d-c0eb-9f1f5bcc1b75"
      },
      "outputs": [
        {
          "name": "stdout",
          "output_type": "stream",
          "text": [
            "Evaluating RMSE, MAE of algorithm SVD on 5 split(s).\n",
            "\n",
            "                  Fold 1  Fold 2  Fold 3  Fold 4  Fold 5  Mean    Std     \n",
            "RMSE (testset)    0.8733  0.8712  0.8662  0.8803  0.8765  0.8735  0.0048  \n",
            "MAE (testset)     0.6727  0.6699  0.6655  0.6763  0.6735  0.6716  0.0037  \n",
            "Fit time          1.08    1.76    1.04    1.04    1.12    1.21    0.28    \n",
            "Test time         0.17    0.18    0.09    0.11    0.33    0.17    0.08    \n",
            "RMSE: 0.6951679814170312\n",
            "MAE: 0.5355930759156361\n"
          ]
        }
      ],
      "source": [
        "cross_validate(model, data, cv=5, verbose=True)\n",
        "\n",
        "# Evaluate the RMSE and MAE values\n",
        "predictions = model.test(testset)\n",
        "rmse = np.sqrt(mean_squared_error([pred.r_ui for pred in predictions], [pred.est for pred in predictions]))\n",
        "mae = mean_absolute_error([pred.r_ui for pred in predictions], [pred.est for pred in predictions])\n",
        "\n",
        "print(f\"RMSE: {rmse}\")\n",
        "print(f\"MAE: {mae}\")"
      ]
    },
    {
      "cell_type": "markdown",
      "metadata": {
        "id": "BeE10vzpqwIM"
      },
      "source": [
        "**Function to Recommend Movies for Existing Users**"
      ]
    },
    {
      "cell_type": "code",
      "execution_count": 65,
      "metadata": {
        "id": "jYyd6WyPibb_"
      },
      "outputs": [],
      "source": [
        "# To generate predictions for a given user\n",
        "def get_recommendations(user_id, n=10):\n",
        "    rated_movies = ratings_df[ratings_df['userId'] == user_id]['movieId'].unique()\n",
        "    unrated_movies = movies_df[~movies_df['movieId'].isin(rated_movies)]\n",
        "\n",
        "    predictions = []\n",
        "    for movie_id in unrated_movies['movieId']:\n",
        "        pred = model.predict(user_id, movie_id)\n",
        "        predictions.append((movie_id, pred.est))\n",
        "\n",
        "    predictions = sorted(predictions, key=lambda x: x[1], reverse=True)\n",
        "    top_recommendations = predictions[:n]\n",
        "\n",
        "    recommended_movies = []\n",
        "    for movie_id, predicted_rating in top_recommendations:\n",
        "        movie_info = movies_df[movies_df['movieId'] == movie_id]\n",
        "        movie_title = movie_info['title'].values[0]\n",
        "        recommended_movies.append((movie_title, predicted_rating))\n",
        "\n",
        "    return recommended_movies"
      ]
    },
    {
      "cell_type": "markdown",
      "metadata": {
        "id": "bh3nDXSQq5Jp"
      },
      "source": [
        "**Function for Cold-Start Handling for New Users**"
      ]
    },
    {
      "cell_type": "code",
      "execution_count": 66,
      "metadata": {
        "id": "7E9CdeEVibi5"
      },
      "outputs": [],
      "source": [
        "# Handle Cold-Start for New Users\n",
        "def recommend_for_cold_start(user_id, preferred_genre=None, top_n=10):\n",
        "    if user_id not in ratings_df['userId'].unique():\n",
        "        print(f\"New user detected: User {user_id}\")\n",
        "        if preferred_genre:\n",
        "            # Recommend the movies based on genre\n",
        "            genre_movies = movies_df[movies_df['genres'].str.contains(preferred_genre, na=False)]\n",
        "            top_genre_movies = genre_movies.sample(n=min(top_n, len(genre_movies)))\n",
        "            return top_genre_movies[['title', 'genres']]\n",
        "        else:\n",
        "            # or recommend popular movies\n",
        "            popular_movies = ratings_df.groupby('movieId')['rating'].mean().sort_values(ascending=False).head(top_n)\n",
        "            top_movies = popular_movies.index\n",
        "            return movies_df[movies_df['movieId'].isin(top_movies)][['title', 'genres']]\n",
        "    else:\n",
        "        return get_recommendations(user_id, n=top_n)"
      ]
    },
    {
      "cell_type": "markdown",
      "metadata": {
        "id": "1NrLshSrrHpA"
      },
      "source": [
        "**Contextual Recommendations**"
      ]
    },
    {
      "cell_type": "code",
      "execution_count": 67,
      "metadata": {
        "id": "4g30qyJRlN1I"
      },
      "outputs": [],
      "source": [
        "# Add the genres to ratings data\n",
        "ratings_with_context = pd.merge(ratings_df, movies_df, on=\"movieId\")\n",
        "\n",
        "# Extract the time of day from timestamp\n",
        "ratings_with_context['timestamp'] = pd.to_datetime(ratings_with_context['timestamp'], unit='s')\n",
        "ratings_with_context['hour'] = ratings_with_context['timestamp'].dt.hour\n",
        "\n",
        "# Time of day categories\n",
        "def get_time_of_day(hour):\n",
        "    if 5 <= hour < 12:\n",
        "        return 'morning'\n",
        "    elif 12 <= hour < 17:\n",
        "        return 'afternoon'\n",
        "    elif 17 <= hour < 21:\n",
        "        return 'evening'\n",
        "    else:\n",
        "        return 'night'\n",
        "\n",
        "ratings_with_context['time_of_day'] = ratings_with_context['hour'].apply(get_time_of_day)\n",
        "\n",
        "# Function for contextual recommendations\n",
        "def get_contextual_recommendations(user_id, preferred_genre=None, time_of_day=None, n=10):\n",
        "    # Filter out the unrated movies for the user\n",
        "    rated_movies = ratings_df[ratings_df['userId'] == user_id]['movieId'].unique()\n",
        "    unrated_movies = movies_df[~movies_df['movieId'].isin(rated_movies)]\n",
        "\n",
        "    # Apply the genre filter\n",
        "    if preferred_genre:\n",
        "        unrated_movies = unrated_movies[unrated_movies['genres'].str.contains(preferred_genre, na=False)]\n",
        "\n",
        "    # Predict the ratings for unrated movies\n",
        "    predictions = []\n",
        "    for movie_id in unrated_movies['movieId']:\n",
        "        pred = model.predict(user_id, movie_id)\n",
        "        predictions.append((movie_id, pred.est))\n",
        "\n",
        "    # Sort the predictions by predicted ratings\n",
        "    predictions = sorted(predictions, key=lambda x: x[1], reverse=True)\n",
        "\n",
        "    # Select the top N recommendations\n",
        "    top_recommendations = predictions[:n]\n",
        "\n",
        "    # Convert the movie IDs back to titles\n",
        "    recommended_movies = []\n",
        "    for movie_id, predicted_rating in top_recommendations:\n",
        "        movie_info = movies_df[movies_df['movieId'] == movie_id]\n",
        "        movie_title = movie_info['title'].values[0]\n",
        "        recommended_movies.append((movie_title, predicted_rating))\n",
        "\n",
        "    # Function to filter recommendations further by time of day if its provided\n",
        "    if time_of_day:\n",
        "        recommendations_with_context = [\n",
        "            (title, rating) for title, rating in recommended_movies\n",
        "            if time_of_day in ratings_with_context['time_of_day'].unique()\n",
        "        ]\n",
        "        return recommendations_with_context\n",
        "\n",
        "    return recommended_movies"
      ]
    },
    {
      "cell_type": "markdown",
      "metadata": {
        "id": "T0IMagEprhBL"
      },
      "source": [
        "**Real-Time Data Handling : Updating the Model with New Ratings**"
      ]
    },
    {
      "cell_type": "code",
      "execution_count": 68,
      "metadata": {
        "id": "xo2gvVRipJjL"
      },
      "outputs": [],
      "source": [
        "def update_model(new_ratings):\n",
        "    global ratings_df\n",
        "    ratings_df = pd.concat([ratings_df, new_ratings], ignore_index=True)\n",
        "\n",
        "    new_data = Dataset.load_from_df(ratings_df[['userId', 'movieId', 'rating']], reader)\n",
        "    trainset = new_data.build_full_trainset()\n",
        "    model.fit(trainset)\n",
        "    return model\n",
        "\n",
        "# Simulating real-time user interaction\n",
        "new_user_ratings = pd.DataFrame({'userId': [1001], 'movieId': [50], 'rating': [4.0]})\n",
        "model = update_model(new_user_ratings)"
      ]
    },
    {
      "cell_type": "markdown",
      "metadata": {
        "id": "UvAXvti3rpZC"
      },
      "source": [
        "**Adding scalability with Apache Spark**"
      ]
    },
    {
      "cell_type": "code",
      "execution_count": 69,
      "metadata": {
        "colab": {
          "base_uri": "https://localhost:8080/"
        },
        "id": "CMRNrFmepP3F",
        "outputId": "b622b4e0-505c-4962-b94e-4bce47dda4ea"
      },
      "outputs": [
        {
          "name": "stdout",
          "output_type": "stream",
          "text": [
            "+------+-------+------+----------+----------+\n",
            "|userId|movieId|rating| timestamp|prediction|\n",
            "+------+-------+------+----------+----------+\n",
            "|   463|   1088|   3.5|1145460096| 2.9916005|\n",
            "|   137|   1580|   3.5|1204859475|  3.382752|\n",
            "|   580|   1580|   4.0|1167792444| 3.4570491|\n",
            "|   580|   3175|   2.5|1167792674|  2.604307|\n",
            "|   580|  44022|   3.5|1167792560| 3.7415185|\n",
            "|   133|    471|   4.0| 843491793| 3.6825655|\n",
            "|   322|   1580|   3.5|1217676294| 3.3639853|\n",
            "|   362|   1591|   4.0|1530638157| 3.1828601|\n",
            "|   362|   1645|   5.0|1530641485| 4.3069506|\n",
            "|   593|   1580|   1.5|1181007882|  2.530834|\n",
            "|   597|    471|   2.0| 941558175| 4.6340265|\n",
            "|   597|   1580|   3.0| 941558308| 3.5674891|\n",
            "|   597|   1959|   4.0| 941640006| 4.0461583|\n",
            "|   597|   2366|   5.0| 941729029|  4.740429|\n",
            "|   108|   1959|   5.0|1042840682|  4.958029|\n",
            "|   155|   1580|   4.0| 965939614|  3.723838|\n",
            "|   155|   3175|   4.0| 961861723| 3.6331384|\n",
            "|    34|   1580|   2.5|1162048827| 4.0674024|\n",
            "|    34|   3997|   2.0|1162050228| 2.0407562|\n",
            "|   368|   1580|   3.0| 971273448| 3.0914297|\n",
            "+------+-------+------+----------+----------+\n",
            "only showing top 20 rows\n",
            "\n"
          ]
        }
      ],
      "source": [
        "spark = SparkSession.builder.appName('RecommenderSystem').getOrCreate()\n",
        "\n",
        "ratings_spark_df = spark.read.csv(\"movielens/ml-latest-small/ratings.csv\", header=True, inferSchema=True)\n",
        "\n",
        "als = ALS(maxIter=10, regParam=0.01, userCol=\"userId\", itemCol=\"movieId\", ratingCol=\"rating\", coldStartStrategy=\"drop\")\n",
        "model1 = als.fit(ratings_spark_df)\n",
        "\n",
        "predictions = model1.transform(ratings_spark_df)\n",
        "predictions.show()"
      ]
    },
    {
      "cell_type": "markdown",
      "metadata": {
        "id": "thbxpjy-rw9e"
      },
      "source": [
        "**Recommendations Function example**"
      ]
    },
    {
      "cell_type": "code",
      "execution_count": 70,
      "metadata": {
        "colab": {
          "base_uri": "https://localhost:8080/"
        },
        "id": "Kxtah_vhng2x",
        "outputId": "5cac4a6f-d93f-4d8d-a108-315679747385"
      },
      "outputs": [
        {
          "name": "stdout",
          "output_type": "stream",
          "text": [
            "Top 5 movie recommendations for User 1:\n",
            "Twelve Monkeys (a.k.a. 12 Monkeys) (1995) (Predicted Rating: 5.00)\n",
            "Shawshank Redemption, The (1994) (Predicted Rating: 5.00)\n",
            "Dr. Strangelove or: How I Learned to Stop Worrying and Love the Bomb (1964) (Predicted Rating: 5.00)\n",
            "Godfather, The (1972) (Predicted Rating: 5.00)\n",
            "Casablanca (1942) (Predicted Rating: 5.00)\n"
          ]
        }
      ],
      "source": [
        "user_id = 1  # A known user ID\n",
        "recommended_movies = get_recommendations(user_id, n=5)\n",
        "\n",
        "print(f\"Top 5 movie recommendations for User {user_id}:\")\n",
        "for movie, rating in recommended_movies:\n",
        "    print(f\"{movie} (Predicted Rating: {rating:.2f})\")"
      ]
    },
    {
      "cell_type": "markdown",
      "metadata": {
        "id": "iNRZgTAXr46G"
      },
      "source": [
        "**Cold-Start Example**"
      ]
    },
    {
      "cell_type": "code",
      "execution_count": 71,
      "metadata": {
        "colab": {
          "base_uri": "https://localhost:8080/"
        },
        "id": "kBkysgulmfje",
        "outputId": "b9093eb2-6705-4369-d34e-9ce70e29bbb6"
      },
      "outputs": [
        {
          "name": "stdout",
          "output_type": "stream",
          "text": [
            "Cold-Start Recommendations:\n",
            "New user detected: User 999\n",
            "                                title                           genres\n",
            "6511  Valet, The (La doublure) (2006)                           Comedy\n",
            "2688            Anchors Aweigh (1945)                   Comedy|Musical\n",
            "8123               Croods, The (2013)       Adventure|Animation|Comedy\n",
            "7477      Love and Other Drugs (2010)             Comedy|Drama|Romance\n",
            "7633             Your Highness (2011)  Action|Adventure|Comedy|Fantasy\n",
            "1960                  Election (1999)                           Comedy\n",
            "3053         Born in East L.A. (1987)                           Comedy\n",
            "6734                Religulous (2008)               Comedy|Documentary\n",
            "7389         Ramona and Beezus (2010)                  Children|Comedy\n",
            "6256     Stranger than Fiction (2006)     Comedy|Drama|Fantasy|Romance\n"
          ]
        }
      ],
      "source": [
        "new_user_id = 999 # A new user ID\n",
        "preferred_genre = 'Comedy'\n",
        "print(\"Cold-Start Recommendations:\")\n",
        "print(recommend_for_cold_start(new_user_id, preferred_genre))"
      ]
    },
    {
      "cell_type": "markdown",
      "metadata": {
        "id": "ZCUrJxjFsHX8"
      },
      "source": [
        "**Contextual Recommendations Example**"
      ]
    },
    {
      "cell_type": "code",
      "execution_count": 72,
      "metadata": {
        "colab": {
          "base_uri": "https://localhost:8080/"
        },
        "id": "j49fOyVvibmT",
        "outputId": "6b428bd6-3d78-4eba-83bd-5f4461728dff"
      },
      "outputs": [
        {
          "name": "stdout",
          "output_type": "stream",
          "text": [
            "Contextual Recommendations:\n",
            "Dr. Strangelove or: How I Learned to Stop Worrying and Love the Bomb (1964) (Predicted Rating: 5.00)\n",
            "Superbad (2007) (Predicted Rating: 5.00)\n",
            "Girl Who Leapt Through Time, The (Toki o kakeru shôjo) (2006) (Predicted Rating: 4.97)\n",
            "Top Secret! (1984) (Predicted Rating: 4.97)\n",
            "Amelie (Fabuleux destin d'Amélie Poulain, Le) (2001) (Predicted Rating: 4.97)\n",
            "Life Is Beautiful (La Vita è bella) (1997) (Predicted Rating: 4.95)\n",
            "Raising Arizona (1987) (Predicted Rating: 4.94)\n",
            "Graduate, The (1967) (Predicted Rating: 4.94)\n",
            "Lost in Translation (2003) (Predicted Rating: 4.93)\n",
            "Roman Holiday (1953) (Predicted Rating: 4.92)\n"
          ]
        }
      ],
      "source": [
        "# Contextual Recommendations for User 1\n",
        "user_id = 1\n",
        "preferred_genre = 'Comedy'\n",
        "time_of_day = 'evening'\n",
        "recommendations = get_contextual_recommendations(user_id, preferred_genre, time_of_day)\n",
        "\n",
        "print(\"Contextual Recommendations:\")\n",
        "for movie, rating in recommendations:\n",
        "    print(f\"{movie} (Predicted Rating: {rating:.2f})\")"
      ]
    }
  ],
  "metadata": {
    "accelerator": "GPU",
    "colab": {
      "gpuType": "T4",
      "provenance": []
    },
    "kernelspec": {
      "display_name": "Python 3",
      "name": "python3"
    },
    "language_info": {
      "name": "python"
    }
  },
  "nbformat": 4,
  "nbformat_minor": 0
}
